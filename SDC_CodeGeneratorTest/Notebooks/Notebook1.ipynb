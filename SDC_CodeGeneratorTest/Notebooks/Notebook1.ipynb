{
  "cells": [
    {
      "cell_type": "markdown",
      "metadata": {},
      "source": [
        "//C:\\Users\\rmoldwi\\OneDrive\\One Drive Documents\\SDC\\SDC Git Repo\\SDC_CodeGeneratorTests\\SDCObjectModelTests\\Test files\\BreastStagingTest.xml\n",
        "\n",
        "//C:\\Users\\rmoldwi\\OneDrive\\One Drive Documents\\SDC\\SDC Git Repo\\SDC_CodeGeneratorTests\\Test files\\BreastStagingTest.xml'."
      ]
    },
    {
      "cell_type": "code",
      "execution_count": 1,
      "metadata": {
        "dotnet_interactive": {
          "language": "csharp"
        }
      },
      "source": [
        "#r \"C:\\Users\\rmoldwi\\OneDrive\\One Drive Documents\\SDC\\SDC Git Repo\\SDC_CodeGeneratorTests\\SDC_CodeGeneratorTest\\obj\\Debug\\net6.0\\SDC_CodeGeneratorTest.dll\"  //SDC.Schema namespace\n",
        "using System;\n",
        "using System.Diagnostics;\n",
        "using System.Xml.Serialization;\n",
        "using System.Runtime.Serialization;\n",
        "using System.Collections;\n",
        "using System.Xml.Schema;\n",
        "using System.ComponentModel;\n",
        "using System.Collections.Specialized;\n",
        "using System.Collections.ObjectModel;\n",
        "using System.Reflection;\n",
        "using System.Globalization;\n",
        "using System.Xml;\n",
        "using Newtonsoft.Json.Bson;\n",
        "using Newtonsoft.Json;\n",
        "using Newtonsoft.Json.Converters;\n",
        "\n",
        "using System.IO;\n",
        "using System.Text;\n",
        "\n",
        "using System.Collections.Generic;\n",
        "using SDC.Schema;"
      ],
      "outputs": []
    },
    {
      "cell_type": "code",
      "execution_count": 1,
      "metadata": {
        "dotnet_interactive": {
          "language": "csharp"
        }
      },
      "source": [
        "\n",
        "\n",
        " \n",
        "display(Path.GetDirectoryName(Assembly.GetExecutingAssembly().Location));\n",
        "display(System.IO.Path.GetDirectoryName(Assembly.GetEntryAssembly().Location));\n",
        "//display(System.IO.Path.GetDirectoryName(Application.ExecutablePath));\n",
        "//string _XmlPath = Path.Combine(\"..\", \"Test files\", \"BreastStagingTest.xml\");\n",
        "//string _Xml = System.IO.File.ReadAllText(_XmlPath);\n",
        "//var FD = FormDesignType.DeserializeFromXml(_Xml);\n",
        "\n",
        ""
      ],
      "outputs": [
        {
          "output_type": "execute_result",
          "data": {
            "text/html": "<div class=\"dni-plaintext\">&lt;null&gt;</div>"
          },
          "execution_count": 1,
          "metadata": {}
        },
        {
          "output_type": "execute_result",
          "data": {
            "text/plain": "C:\\Users\\rmoldwi\\.nuget\\packages\\microsoft.dotnet-interactive\\1.0.310301\\tools\\net6.0\\any"
          },
          "execution_count": 1,
          "metadata": {}
        }
      ]
    }
  ],
  "metadata": {
    "kernelspec": {
      "display_name": ".NET (C#)",
      "language": "C#",
      "name": ".net-csharp"
    },
    "language_info": {
      "file_extension": ".cs",
      "mimetype": "text/x-csharp",
      "name": "C#",
      "pygments_lexer": "csharp",
      "version": "8.0"
    }
  },
  "nbformat": 4,
  "nbformat_minor": 4
}