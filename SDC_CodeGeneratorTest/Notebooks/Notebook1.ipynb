{
  "cells": [
    {
      "cell_type": "markdown",
      "metadata": {},
      "source": [
        ""
      ]
    },
    {
      "cell_type": "code",
      "execution_count": 1,
      "metadata": {
        "dotnet_interactive": {
          "language": "csharp"
        }
      },
      "source": [
        "using System;\n",
        "using System.Diagnostics;\n",
        "using System.Xml.Serialization;\n",
        "using System.Runtime.Serialization;\n",
        "using System.Collections;\n",
        "using System.Xml.Schema;\n",
        "using System.ComponentModel;\n",
        "using System.Collections.Specialized;\n",
        "using System.Collections.ObjectModel;\n",
        "using System.Reflection;\n",
        "using System.Globalization;\n",
        "using System.Xml;\n",
        "using Newtonsoft.Json.Bson;\n",
        "using Newtonsoft.Json;\n",
        "using Newtonsoft.Json.Converters;\n",
        "\n",
        "using System.IO;\n",
        "using System.Text;\n",
        "\n",
        "using System.Collections.Generic;\n",
        ""
      ],
      "outputs": []
    },
    {
      "cell_type": "code",
      "execution_count": 1,
      "metadata": {
        "dotnet_interactive": {
          "language": "csharp"
        }
      },
      "source": [
        "\n",
        "var a = 555;\n",
        "display (a.ToString());\n",
        "\n",
        "\n",
        ""
      ],
      "outputs": [
        {
          "output_type": "execute_result",
          "data": {
            "text/plain": "555"
          },
          "execution_count": 1,
          "metadata": {}
        }
      ]
    }
  ],
  "metadata": {
    "kernelspec": {
      "display_name": ".NET (C#)",
      "language": "C#",
      "name": ".net-csharp"
    },
    "language_info": {
      "file_extension": ".cs",
      "mimetype": "text/x-csharp",
      "name": "C#",
      "pygments_lexer": "csharp",
      "version": "8.0"
    }
  },
  "nbformat": 4,
  "nbformat_minor": 4
}